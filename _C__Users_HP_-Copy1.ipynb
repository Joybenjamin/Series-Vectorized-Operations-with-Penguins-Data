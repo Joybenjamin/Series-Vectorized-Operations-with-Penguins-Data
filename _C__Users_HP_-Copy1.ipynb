{
 "cells": [
  {
   "cell_type": "markdown",
   "metadata": {},
   "source": [
    "## Look at the dataset"
   ]
  },
  {
   "cell_type": "code",
   "execution_count": 1,
   "metadata": {},
   "outputs": [],
   "source": [
    "import pandas as pd"
   ]
  },
  {
   "cell_type": "code",
   "execution_count": 2,
   "metadata": {},
   "outputs": [
    {
     "data": {
      "text/html": [
       "<div>\n",
       "<style scoped>\n",
       "    .dataframe tbody tr th:only-of-type {\n",
       "        vertical-align: middle;\n",
       "    }\n",
       "\n",
       "    .dataframe tbody tr th {\n",
       "        vertical-align: top;\n",
       "    }\n",
       "\n",
       "    .dataframe thead th {\n",
       "        text-align: right;\n",
       "    }\n",
       "</style>\n",
       "<table border=\"1\" class=\"dataframe\">\n",
       "  <thead>\n",
       "    <tr style=\"text-align: right;\">\n",
       "      <th></th>\n",
       "      <th>species</th>\n",
       "      <th>island</th>\n",
       "      <th>culmen_length_mm</th>\n",
       "      <th>culmen_depth_mm</th>\n",
       "      <th>flipper_length_mm</th>\n",
       "      <th>body_mass_g</th>\n",
       "      <th>sex</th>\n",
       "    </tr>\n",
       "  </thead>\n",
       "  <tbody>\n",
       "    <tr>\n",
       "      <th>0</th>\n",
       "      <td>Adelie</td>\n",
       "      <td>Torgersen</td>\n",
       "      <td>39.1</td>\n",
       "      <td>18.7</td>\n",
       "      <td>181.0</td>\n",
       "      <td>3750.0</td>\n",
       "      <td>MALE</td>\n",
       "    </tr>\n",
       "    <tr>\n",
       "      <th>1</th>\n",
       "      <td>Adelie</td>\n",
       "      <td>Torgersen</td>\n",
       "      <td>39.5</td>\n",
       "      <td>17.4</td>\n",
       "      <td>186.0</td>\n",
       "      <td>3800.0</td>\n",
       "      <td>FEMALE</td>\n",
       "    </tr>\n",
       "    <tr>\n",
       "      <th>2</th>\n",
       "      <td>Adelie</td>\n",
       "      <td>Torgersen</td>\n",
       "      <td>40.3</td>\n",
       "      <td>18.0</td>\n",
       "      <td>195.0</td>\n",
       "      <td>3250.0</td>\n",
       "      <td>FEMALE</td>\n",
       "    </tr>\n",
       "    <tr>\n",
       "      <th>3</th>\n",
       "      <td>Adelie</td>\n",
       "      <td>Torgersen</td>\n",
       "      <td>36.7</td>\n",
       "      <td>19.3</td>\n",
       "      <td>193.0</td>\n",
       "      <td>3450.0</td>\n",
       "      <td>FEMALE</td>\n",
       "    </tr>\n",
       "    <tr>\n",
       "      <th>4</th>\n",
       "      <td>Adelie</td>\n",
       "      <td>Torgersen</td>\n",
       "      <td>39.3</td>\n",
       "      <td>20.6</td>\n",
       "      <td>190.0</td>\n",
       "      <td>3650.0</td>\n",
       "      <td>MALE</td>\n",
       "    </tr>\n",
       "    <tr>\n",
       "      <th>...</th>\n",
       "      <td>...</td>\n",
       "      <td>...</td>\n",
       "      <td>...</td>\n",
       "      <td>...</td>\n",
       "      <td>...</td>\n",
       "      <td>...</td>\n",
       "      <td>...</td>\n",
       "    </tr>\n",
       "    <tr>\n",
       "      <th>328</th>\n",
       "      <td>Gentoo</td>\n",
       "      <td>Biscoe</td>\n",
       "      <td>47.2</td>\n",
       "      <td>13.7</td>\n",
       "      <td>214.0</td>\n",
       "      <td>4925.0</td>\n",
       "      <td>FEMALE</td>\n",
       "    </tr>\n",
       "    <tr>\n",
       "      <th>329</th>\n",
       "      <td>Gentoo</td>\n",
       "      <td>Biscoe</td>\n",
       "      <td>46.8</td>\n",
       "      <td>14.3</td>\n",
       "      <td>215.0</td>\n",
       "      <td>4850.0</td>\n",
       "      <td>FEMALE</td>\n",
       "    </tr>\n",
       "    <tr>\n",
       "      <th>330</th>\n",
       "      <td>Gentoo</td>\n",
       "      <td>Biscoe</td>\n",
       "      <td>50.4</td>\n",
       "      <td>15.7</td>\n",
       "      <td>222.0</td>\n",
       "      <td>5750.0</td>\n",
       "      <td>MALE</td>\n",
       "    </tr>\n",
       "    <tr>\n",
       "      <th>331</th>\n",
       "      <td>Gentoo</td>\n",
       "      <td>Biscoe</td>\n",
       "      <td>45.2</td>\n",
       "      <td>14.8</td>\n",
       "      <td>212.0</td>\n",
       "      <td>5200.0</td>\n",
       "      <td>FEMALE</td>\n",
       "    </tr>\n",
       "    <tr>\n",
       "      <th>332</th>\n",
       "      <td>Gentoo</td>\n",
       "      <td>Biscoe</td>\n",
       "      <td>49.9</td>\n",
       "      <td>16.1</td>\n",
       "      <td>213.0</td>\n",
       "      <td>5400.0</td>\n",
       "      <td>MALE</td>\n",
       "    </tr>\n",
       "  </tbody>\n",
       "</table>\n",
       "<p>333 rows × 7 columns</p>\n",
       "</div>"
      ],
      "text/plain": [
       "    species     island  culmen_length_mm  culmen_depth_mm  flipper_length_mm   \n",
       "0    Adelie  Torgersen              39.1             18.7              181.0  \\\n",
       "1    Adelie  Torgersen              39.5             17.4              186.0   \n",
       "2    Adelie  Torgersen              40.3             18.0              195.0   \n",
       "3    Adelie  Torgersen              36.7             19.3              193.0   \n",
       "4    Adelie  Torgersen              39.3             20.6              190.0   \n",
       "..      ...        ...               ...              ...                ...   \n",
       "328  Gentoo     Biscoe              47.2             13.7              214.0   \n",
       "329  Gentoo     Biscoe              46.8             14.3              215.0   \n",
       "330  Gentoo     Biscoe              50.4             15.7              222.0   \n",
       "331  Gentoo     Biscoe              45.2             14.8              212.0   \n",
       "332  Gentoo     Biscoe              49.9             16.1              213.0   \n",
       "\n",
       "     body_mass_g     sex  \n",
       "0         3750.0    MALE  \n",
       "1         3800.0  FEMALE  \n",
       "2         3250.0  FEMALE  \n",
       "3         3450.0  FEMALE  \n",
       "4         3650.0    MALE  \n",
       "..           ...     ...  \n",
       "328       4925.0  FEMALE  \n",
       "329       4850.0  FEMALE  \n",
       "330       5750.0    MALE  \n",
       "331       5200.0  FEMALE  \n",
       "332       5400.0    MALE  \n",
       "\n",
       "[333 rows x 7 columns]"
      ]
     },
     "execution_count": 2,
     "metadata": {},
     "output_type": "execute_result"
    }
   ],
   "source": [
    "# Read the dataset into a DataFrame\n",
    "df = pd.read_csv('penguins_cleaned.csv')\n",
    "df"
   ]
  },
  {
   "cell_type": "code",
   "execution_count": 3,
   "metadata": {},
   "outputs": [],
   "source": [
    "# Convert all columns to pandas Series\n",
    "species = df['species']\n",
    "island = df['island']\n",
    "culmen_length_mm = df['culmen_length_mm']\n",
    "culmen_depth_mm = df['culmen_depth_mm']\n",
    "flipper_length_mm = df['flipper_length_mm']\n",
    "body_mass_g = df['body_mass_g']\n",
    "gender = df['sex']"
   ]
  },
  {
   "cell_type": "code",
   "execution_count": 4,
   "metadata": {},
   "outputs": [
    {
     "name": "stdout",
     "output_type": "stream",
     "text": [
      "Species:  0      Adelie\n",
      "1      Adelie\n",
      "2      Adelie\n",
      "3      Adelie\n",
      "4      Adelie\n",
      "        ...  \n",
      "328    Gentoo\n",
      "329    Gentoo\n",
      "330    Gentoo\n",
      "331    Gentoo\n",
      "332    Gentoo\n",
      "Name: species, Length: 333, dtype: object\n"
     ]
    }
   ],
   "source": [
    "print(\"Species: \", species)"
   ]
  },
  {
   "cell_type": "code",
   "execution_count": 5,
   "metadata": {},
   "outputs": [
    {
     "name": "stdout",
     "output_type": "stream",
     "text": [
      "Island:  0      Torgersen\n",
      "1      Torgersen\n",
      "2      Torgersen\n",
      "3      Torgersen\n",
      "4      Torgersen\n",
      "         ...    \n",
      "328       Biscoe\n",
      "329       Biscoe\n",
      "330       Biscoe\n",
      "331       Biscoe\n",
      "332       Biscoe\n",
      "Name: island, Length: 333, dtype: object\n"
     ]
    }
   ],
   "source": [
    "print(\"Island: \", island)"
   ]
  },
  {
   "cell_type": "code",
   "execution_count": 6,
   "metadata": {},
   "outputs": [
    {
     "name": "stdout",
     "output_type": "stream",
     "text": [
      "Culmen Length (mm):  0      39.1\n",
      "1      39.5\n",
      "2      40.3\n",
      "3      36.7\n",
      "4      39.3\n",
      "       ... \n",
      "328    47.2\n",
      "329    46.8\n",
      "330    50.4\n",
      "331    45.2\n",
      "332    49.9\n",
      "Name: culmen_length_mm, Length: 333, dtype: float64\n"
     ]
    }
   ],
   "source": [
    "print(\"Culmen Length (mm): \", culmen_length_mm)"
   ]
  },
  {
   "cell_type": "code",
   "execution_count": 7,
   "metadata": {},
   "outputs": [
    {
     "name": "stdout",
     "output_type": "stream",
     "text": [
      "Culmen Depth (mm):  0      18.7\n",
      "1      17.4\n",
      "2      18.0\n",
      "3      19.3\n",
      "4      20.6\n",
      "       ... \n",
      "328    13.7\n",
      "329    14.3\n",
      "330    15.7\n",
      "331    14.8\n",
      "332    16.1\n",
      "Name: culmen_depth_mm, Length: 333, dtype: float64\n"
     ]
    }
   ],
   "source": [
    "print(\"Culmen Depth (mm): \", culmen_depth_mm)"
   ]
  },
  {
   "cell_type": "code",
   "execution_count": 8,
   "metadata": {},
   "outputs": [
    {
     "name": "stdout",
     "output_type": "stream",
     "text": [
      "Flipper Length (mm):  0      181.0\n",
      "1      186.0\n",
      "2      195.0\n",
      "3      193.0\n",
      "4      190.0\n",
      "       ...  \n",
      "328    214.0\n",
      "329    215.0\n",
      "330    222.0\n",
      "331    212.0\n",
      "332    213.0\n",
      "Name: flipper_length_mm, Length: 333, dtype: float64\n"
     ]
    }
   ],
   "source": [
    "print(\"Flipper Length (mm): \", flipper_length_mm)"
   ]
  },
  {
   "cell_type": "code",
   "execution_count": 9,
   "metadata": {},
   "outputs": [
    {
     "name": "stdout",
     "output_type": "stream",
     "text": [
      "Body Mass (g):  0      3750.0\n",
      "1      3800.0\n",
      "2      3250.0\n",
      "3      3450.0\n",
      "4      3650.0\n",
      "        ...  \n",
      "328    4925.0\n",
      "329    4850.0\n",
      "330    5750.0\n",
      "331    5200.0\n",
      "332    5400.0\n",
      "Name: body_mass_g, Length: 333, dtype: float64\n"
     ]
    }
   ],
   "source": [
    "print(\"Body Mass (g): \", body_mass_g)"
   ]
  },
  {
   "cell_type": "code",
   "execution_count": 10,
   "metadata": {},
   "outputs": [
    {
     "name": "stdout",
     "output_type": "stream",
     "text": [
      "Gender:  0        MALE\n",
      "1      FEMALE\n",
      "2      FEMALE\n",
      "3      FEMALE\n",
      "4        MALE\n",
      "        ...  \n",
      "328    FEMALE\n",
      "329    FEMALE\n",
      "330      MALE\n",
      "331    FEMALE\n",
      "332      MALE\n",
      "Name: sex, Length: 333, dtype: object\n"
     ]
    }
   ],
   "source": [
    "print(\"Gender: \", gender)"
   ]
  },
  {
   "cell_type": "markdown",
   "metadata": {},
   "source": [
    "### Activities"
   ]
  },
  {
   "cell_type": "markdown",
   "metadata": {},
   "source": [
    "##### 1. Add a constant value."
   ]
  },
  {
   "cell_type": "code",
   "execution_count": 11,
   "metadata": {},
   "outputs": [
    {
     "data": {
      "text/plain": [
       "0      3850.0\n",
       "1      3900.0\n",
       "2      3350.0\n",
       "3      3550.0\n",
       "4      3750.0\n",
       "        ...  \n",
       "328    5025.0\n",
       "329    4950.0\n",
       "330    5850.0\n",
       "331    5300.0\n",
       "332    5500.0\n",
       "Name: body_mass_g, Length: 333, dtype: float64"
      ]
     },
     "execution_count": 11,
     "metadata": {},
     "output_type": "execute_result"
    }
   ],
   "source": [
    "body_mass_g_plus_100 = body_mass_g + 100\n",
    "body_mass_g_plus_100"
   ]
  },
  {
   "cell_type": "markdown",
   "metadata": {},
   "source": [
    "##### 2. Subtract the 'culmen_length_mm' series from the 'flipper_length_mm' series"
   ]
  },
  {
   "cell_type": "code",
   "execution_count": 12,
   "metadata": {},
   "outputs": [
    {
     "data": {
      "text/plain": [
       "0      141.9\n",
       "1      146.5\n",
       "2      154.7\n",
       "3      156.3\n",
       "4      150.7\n",
       "       ...  \n",
       "328    166.8\n",
       "329    168.2\n",
       "330    171.6\n",
       "331    166.8\n",
       "332    163.1\n",
       "Length: 333, dtype: float64"
      ]
     },
     "execution_count": 12,
     "metadata": {},
     "output_type": "execute_result"
    }
   ],
   "source": [
    "length_difference = flipper_length_mm - culmen_length_mm\n",
    "length_difference"
   ]
  },
  {
   "cell_type": "markdown",
   "metadata": {},
   "source": [
    "##### 3. Multiply to series"
   ]
  },
  {
   "cell_type": "code",
   "execution_count": 22,
   "metadata": {},
   "outputs": [
    {
     "data": {
      "text/plain": [
       "0      37.4\n",
       "1      34.8\n",
       "2      36.0\n",
       "3      38.6\n",
       "4      41.2\n",
       "       ... \n",
       "328    27.4\n",
       "329    28.6\n",
       "330    31.4\n",
       "331    29.6\n",
       "332    32.2\n",
       "Name: culmen_depth_mm, Length: 333, dtype: float64"
      ]
     },
     "execution_count": 22,
     "metadata": {},
     "output_type": "execute_result"
    }
   ],
   "source": [
    "double_culmen_depth_mm = culmen_depth_mm * 2\n",
    "double_culmen_depth_mm"
   ]
  },
  {
   "cell_type": "markdown",
   "metadata": {},
   "source": [
    "##### 4. Raise the 'flipper_length_mm' series to the power"
   ]
  },
  {
   "cell_type": "code",
   "execution_count": 15,
   "metadata": {},
   "outputs": [
    {
     "data": {
      "text/plain": [
       "0      32761.0\n",
       "1      34596.0\n",
       "2      38025.0\n",
       "3      37249.0\n",
       "4      36100.0\n",
       "        ...   \n",
       "328    45796.0\n",
       "329    46225.0\n",
       "330    49284.0\n",
       "331    44944.0\n",
       "332    45369.0\n",
       "Name: flipper_length_mm, Length: 333, dtype: float64"
      ]
     },
     "execution_count": 15,
     "metadata": {},
     "output_type": "execute_result"
    }
   ],
   "source": [
    "flipper_length_mm_squared = flipper_length_mm ** 2\n",
    "flipper_length_mm_squared"
   ]
  },
  {
   "cell_type": "markdown",
   "metadata": {},
   "source": [
    "##### 5. Calculate the mean of the 'culmen_length_mm' series and subtract it from each value in the series"
   ]
  },
  {
   "cell_type": "code",
   "execution_count": 16,
   "metadata": {},
   "outputs": [
    {
     "data": {
      "text/plain": [
       "0     -4.892793\n",
       "1     -4.492793\n",
       "2     -3.692793\n",
       "3     -7.292793\n",
       "4     -4.692793\n",
       "         ...   \n",
       "328    3.207207\n",
       "329    2.807207\n",
       "330    6.407207\n",
       "331    1.207207\n",
       "332    5.907207\n",
       "Name: culmen_length_mm, Length: 333, dtype: float64"
      ]
     },
     "execution_count": 16,
     "metadata": {},
     "output_type": "execute_result"
    }
   ],
   "source": [
    "culmen_length_mm_mean_centered = culmen_length_mm - culmen_length_mm.mean()\n",
    "culmen_length_mm_mean_centered"
   ]
  },
  {
   "cell_type": "markdown",
   "metadata": {},
   "source": [
    "##### 6. Concatenate the 'species' and 'gender' series"
   ]
  },
  {
   "cell_type": "code",
   "execution_count": 17,
   "metadata": {},
   "outputs": [
    {
     "data": {
      "text/plain": [
       "0        Adelie-MALE\n",
       "1      Adelie-FEMALE\n",
       "2      Adelie-FEMALE\n",
       "3      Adelie-FEMALE\n",
       "4        Adelie-MALE\n",
       "           ...      \n",
       "328    Gentoo-FEMALE\n",
       "329    Gentoo-FEMALE\n",
       "330      Gentoo-MALE\n",
       "331    Gentoo-FEMALE\n",
       "332      Gentoo-MALE\n",
       "Length: 333, dtype: object"
      ]
     },
     "execution_count": 17,
     "metadata": {},
     "output_type": "execute_result"
    }
   ],
   "source": [
    "species_and_gender  = species + '-' + gender\n",
    "species_and_gender"
   ]
  },
  {
   "cell_type": "markdown",
   "metadata": {},
   "source": [
    "##### 7. Perform element-wise addition"
   ]
  },
  {
   "cell_type": "code",
   "execution_count": 18,
   "metadata": {},
   "outputs": [
    {
     "data": {
      "text/plain": [
       "0      57.8\n",
       "1      56.9\n",
       "2      58.3\n",
       "3      56.0\n",
       "4      59.9\n",
       "       ... \n",
       "328    60.9\n",
       "329    61.1\n",
       "330    66.1\n",
       "331    60.0\n",
       "332    66.0\n",
       "Length: 333, dtype: float64"
      ]
     },
     "execution_count": 18,
     "metadata": {},
     "output_type": "execute_result"
    }
   ],
   "source": [
    "culmen_length_plus_depth_mm = culmen_length_mm + culmen_depth_mm\n",
    "culmen_length_plus_depth_mm"
   ]
  },
  {
   "cell_type": "markdown",
   "metadata": {},
   "source": [
    "##### 8. Sort `culmen_length_mm` in descending order"
   ]
  },
  {
   "cell_type": "code",
   "execution_count": 19,
   "metadata": {},
   "outputs": [
    {
     "data": {
      "text/plain": [
       "246    59.6\n",
       "163    58.0\n",
       "313    55.9\n",
       "209    55.8\n",
       "326    55.1\n",
       "       ... \n",
       "13     34.4\n",
       "86     34.0\n",
       "64     33.5\n",
       "92     33.1\n",
       "136    32.1\n",
       "Name: culmen_length_mm, Length: 333, dtype: float64"
      ]
     },
     "execution_count": 19,
     "metadata": {},
     "output_type": "execute_result"
    }
   ],
   "source": [
    "culmen_length_mm_sorted = culmen_length_mm.sort_values(ascending=False)\n",
    "culmen_length_mm_sorted"
   ]
  },
  {
   "cell_type": "markdown",
   "metadata": {},
   "source": [
    "##### 9. Divide `flipper_length_mm` by `culmen_length_mm`"
   ]
  },
  {
   "cell_type": "code",
   "execution_count": 21,
   "metadata": {},
   "outputs": [
    {
     "data": {
      "text/plain": [
       "0      4.629156\n",
       "1      4.708861\n",
       "2      4.838710\n",
       "3      5.258856\n",
       "4      4.834606\n",
       "         ...   \n",
       "328    4.533898\n",
       "329    4.594017\n",
       "330    4.404762\n",
       "331    4.690265\n",
       "332    4.268537\n",
       "Length: 333, dtype: float64"
      ]
     },
     "execution_count": 21,
     "metadata": {},
     "output_type": "execute_result"
    }
   ],
   "source": [
    "length_ratio = flipper_length_mm/culmen_length_mm\n",
    "length_ratio"
   ]
  },
  {
   "cell_type": "markdown",
   "metadata": {},
   "source": [
    "### The End!"
   ]
  }
 ],
 "metadata": {
  "kernelspec": {
   "display_name": "Python 3 (ipykernel)",
   "language": "python",
   "name": "python3"
  },
  "language_info": {
   "codemirror_mode": {
    "name": "ipython",
    "version": 3
   },
   "file_extension": ".py",
   "mimetype": "text/x-python",
   "name": "python",
   "nbconvert_exporter": "python",
   "pygments_lexer": "ipython3",
   "version": "3.10.9"
  }
 },
 "nbformat": 4,
 "nbformat_minor": 4
}
